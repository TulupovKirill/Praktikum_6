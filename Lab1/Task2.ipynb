{
 "cells": [
  {
   "cell_type": "markdown",
   "metadata": {},
   "source": [
    "# Фильтр Блума со счётом"
   ]
  },
  {
   "cell_type": "code",
   "execution_count": 10,
   "metadata": {},
   "outputs": [],
   "source": [
    "import matplotlib.pyplot as plt\n",
    "import pandas as pd\n",
    "import numpy as np\n",
    "import hashlib"
   ]
  },
  {
   "cell_type": "markdown",
   "metadata": {},
   "source": [
    "## 1. Реализация Фильтра Блума"
   ]
  },
  {
   "cell_type": "code",
   "execution_count": null,
   "metadata": {},
   "outputs": [],
   "source": [
    "class CountingBloomFilter:\n",
    "    def __init__(self, size, num_hashes):\n",
    "        self.size = size\n",
    "        self.num_hashes = num_hashes\n",
    "        self.buckets = [0] * size\n",
    "\n",
    "    def _hashes(self, item):\n",
    "        return [int(hashlib.md5(item.encode()).hexdigest(), 16) % self.size for _ in range(self.num_hashes)]\n",
    "\n",
    "    def add(self, item):\n",
    "        for hash_value in self._hashes(item):\n",
    "            self.buckets[hash_value] += 1\n",
    "\n",
    "    def remove(self, item):\n",
    "        for hash_value in self._hashes(item):\n",
    "            if self.buckets[hash_value] > 0:\n",
    "                self.buckets[hash_value] -= 1\n",
    "\n",
    "    def check(self, item):\n",
    "        return all(self.buckets[hash_value] > 0 for hash_value in self._hashes(item))"
   ]
  },
  {
   "cell_type": "markdown",
   "metadata": {},
   "source": [
    "## 2. Определение ложноположительных результатов"
   ]
  },
  {
   "cell_type": "code",
   "execution_count": 3,
   "metadata": {},
   "outputs": [],
   "source": [
    "def test_false_positive_rate(bloom_filter: CountingBloomFilter, num_tests):\n",
    "    false_positives = 0\n",
    "    for i in range(num_tests):\n",
    "        test_item = f\"test_{i}\"\n",
    "        if not bloom_filter.check(test_item):\n",
    "            false_positives += 1\n",
    "    return false_positives / num_tests"
   ]
  },
  {
   "cell_type": "code",
   "execution_count": 6,
   "metadata": {},
   "outputs": [],
   "source": [
    "bloom_filter = CountingBloomFilter(size=1000, num_hashes=5)"
   ]
  },
  {
   "cell_type": "markdown",
   "metadata": {},
   "source": [
    "Анализ добавления"
   ]
  },
  {
   "cell_type": "code",
   "execution_count": 7,
   "metadata": {},
   "outputs": [
    {
     "name": "stdout",
     "output_type": "stream",
     "text": [
      "False positive rate: 90.80%\n"
     ]
    }
   ],
   "source": [
    "for i in range(100):\n",
    "    bloom_filter.add(f\"item_{i}\")\n",
    "\n",
    "false_positive_rate = test_false_positive_rate(bloom_filter, 1000)\n",
    "print(f\"False positive rate: {false_positive_rate:.2%}\")"
   ]
  },
  {
   "cell_type": "markdown",
   "metadata": {},
   "source": [
    "Анализ удаления"
   ]
  },
  {
   "cell_type": "code",
   "execution_count": 8,
   "metadata": {},
   "outputs": [
    {
     "name": "stdout",
     "output_type": "stream",
     "text": [
      "False positive rate: 98.00%\n"
     ]
    }
   ],
   "source": [
    "for i in range(20):\n",
    "    bloom_filter.remove(f\"item_{i}\")\n",
    "\n",
    "false_positive_rate = test_false_positive_rate(bloom_filter, 100)\n",
    "print(f\"False positive rate: {false_positive_rate:.2%}\")"
   ]
  },
  {
   "cell_type": "markdown",
   "metadata": {},
   "source": [
    "## 3. Оценка зависимости реализации от гиперпараметров"
   ]
  },
  {
   "cell_type": "code",
   "execution_count": null,
   "metadata": {},
   "outputs": [
    {
     "data": {
      "text/plain": [
       "array([[[1.00e+02, 1.00e+00, 3.76e-01],\n",
       "        [1.00e+02, 2.00e+00, 3.76e-01],\n",
       "        [1.00e+02, 3.00e+00, 3.76e-01],\n",
       "        [1.00e+02, 4.00e+00, 3.76e-01],\n",
       "        [1.00e+02, 5.00e+00, 3.76e-01],\n",
       "        [2.00e+02, 1.00e+00, 6.08e-01],\n",
       "        [2.00e+02, 2.00e+00, 6.08e-01],\n",
       "        [2.00e+02, 3.00e+00, 6.08e-01],\n",
       "        [2.00e+02, 4.00e+00, 6.08e-01],\n",
       "        [2.00e+02, 5.00e+00, 6.08e-01],\n",
       "        [5.00e+02, 1.00e+00, 8.11e-01],\n",
       "        [5.00e+02, 2.00e+00, 8.11e-01],\n",
       "        [5.00e+02, 3.00e+00, 8.11e-01],\n",
       "        [5.00e+02, 4.00e+00, 8.11e-01],\n",
       "        [5.00e+02, 5.00e+00, 8.11e-01],\n",
       "        [1.00e+03, 1.00e+00, 9.08e-01],\n",
       "        [1.00e+03, 2.00e+00, 9.08e-01],\n",
       "        [1.00e+03, 3.00e+00, 9.08e-01],\n",
       "        [1.00e+03, 4.00e+00, 9.08e-01],\n",
       "        [1.00e+03, 5.00e+00, 9.08e-01]]])"
      ]
     },
     "execution_count": 9,
     "metadata": {},
     "output_type": "execute_result"
    }
   ],
   "source": [
    "sizes = [100, 200, 500, 1000]\n",
    "num_hashes = [1, 2, 3, 4, 5]\n",
    "results = []\n",
    "\n",
    "for size in sizes:\n",
    "    for num_hash in num_hashes:\n",
    "        bloom_filter = CountingBloomFilter(size=size, num_hashes=num_hash)\n",
    "        for i in range(100):\n",
    "            bloom_filter.add(f\"item_{i}\")\n",
    "        false_positive_rate = test_false_positive_rate(bloom_filter, 1000)\n",
    "        results.append((size, num_hash, false_positive_rate))\n",
    "\n",
    "results = np.array([results])\n",
    "results"
   ]
  },
  {
   "cell_type": "code",
   "execution_count": 18,
   "metadata": {},
   "outputs": [
    {
     "data": {
      "image/png": "[encoded data removed]",
      "text/plain": [
       "<Figure size 1500x700 with 2 Axes>"
      ]
     },
     "metadata": {},
     "output_type": "display_data"
    }
   ],
   "source": [
    "plt.figure(figsize=(15, 7))\n",
    "plt.subplot(1, 2, 1)\n",
    "plt.title(\"Размерность\")\n",
    "plt.scatter(results[:, :, 0], results[:, :, 2])\n",
    "plt.xlabel(\"Размер\")\n",
    "plt.ylabel(\"Вероятность\")\n",
    "plt.subplot(1, 2, 2)\n",
    "plt.title(\"Размерность\")\n",
    "plt.scatter(results[:, :, 1], results[:, :, 2])\n",
    "plt.xlabel(\"Количество хеш-функций\")\n",
    "plt.ylabel(\"Вероятность\")\n",
    "plt.show()"
   ]
  },
  {
   "cell_type": "markdown",
   "metadata": {},
   "source": [
    "## Пересечение и объединение фильтров"
   ]
  },
  {
   "cell_type": "code",
   "execution_count": 22,
   "metadata": {},
   "outputs": [],
   "source": [
    "def union(bloom1: CountingBloomFilter, bloom2: CountingBloomFilter):\n",
    "    if bloom1.size != bloom2.size:\n",
    "        raise ValueError(\"Bloom filters must be of the same size\")\n",
    "    new_bloom = CountingBloomFilter(bloom1.size, bloom1.num_hashes + bloom2.num_hashes)\n",
    "    new_bloom.buckets = [max(b1, b2) for b1, b2 in zip(bloom1.buckets, bloom2.buckets)]\n",
    "    return new_bloom\n",
    "\n",
    "def intersection(bloom1: CountingBloomFilter, bloom2: CountingBloomFilter):\n",
    "    if bloom1.size != bloom2.size:\n",
    "        raise ValueError(\"Bloom filters must be of the same size\")\n",
    "    new_bloom = CountingBloomFilter(bloom1.size, bloom1.num_hashes + bloom2.num_hashes)\n",
    "    new_bloom.buckets = [min(b1, b2) for b1, b2 in zip(bloom1.buckets, bloom2.buckets)]\n",
    "    return new_bloom"
   ]
  },
  {
   "cell_type": "markdown",
   "metadata": {},
   "source": [
    "Объединение"
   ]
  },
  {
   "cell_type": "code",
   "execution_count": 24,
   "metadata": {},
   "outputs": [
    {
     "name": "stdout",
     "output_type": "stream",
     "text": [
      "[4, 2, 2, 2, 0, 0, 0, 0, 0, 0]\n",
      "[6, 3, 3, 3, 0, 0, 0, 0, 0, 0]\n"
     ]
    },
    {
     "data": {
      "text/plain": [
       "[6, 3, 3, 3, 0, 0, 0, 0, 0, 0]"
      ]
     },
     "execution_count": 24,
     "metadata": {},
     "output_type": "execute_result"
    }
   ],
   "source": [
    "filter1 = CountingBloomFilter(size=10, num_hashes=2)\n",
    "filter2 = CountingBloomFilter(size=10, num_hashes=3)\n",
    "\n",
    "for i in range(5):\n",
    "    filter1.add(f\"{i}\")\n",
    "    filter2.add(f\"{i}\")\n",
    "\n",
    "new_filter = union(filter1, filter2)\n",
    "print(filter1.buckets)\n",
    "print(filter2.buckets)\n",
    "new_filter.buckets"
   ]
  },
  {
   "cell_type": "markdown",
   "metadata": {},
   "source": [
    "Пересечение"
   ]
  },
  {
   "cell_type": "code",
   "execution_count": 25,
   "metadata": {},
   "outputs": [
    {
     "name": "stdout",
     "output_type": "stream",
     "text": [
      "[4, 2, 2, 2, 0, 0, 0, 0, 0, 0]\n",
      "[6, 3, 3, 3, 0, 0, 0, 0, 0, 0]\n"
     ]
    },
    {
     "data": {
      "text/plain": [
       "[4, 2, 2, 2, 0, 0, 0, 0, 0, 0]"
      ]
     },
     "execution_count": 25,
     "metadata": {},
     "output_type": "execute_result"
    }
   ],
   "source": [
    "filter1 = CountingBloomFilter(size=10, num_hashes=2)\n",
    "filter2 = CountingBloomFilter(size=10, num_hashes=3)\n",
    "\n",
    "for i in range(5):\n",
    "    filter1.add(f\"{i}\")\n",
    "    filter2.add(f\"{i}\")\n",
    "\n",
    "new_filter = intersection(filter1, filter2)\n",
    "print(filter1.buckets)\n",
    "print(filter2.buckets)\n",
    "new_filter.buckets"
   ]
  }
 ],
 "metadata": {
  "kernelspec": {
   "display_name": ".venv",
   "language": "python",
   "name": "python3"
  },
  "language_info": {
   "codemirror_mode": {
    "name": "ipython",
    "version": 3
   },
   "file_extension": ".py",
   "mimetype": "text/x-python",
   "name": "python",
   "nbconvert_exporter": "python",
   "pygments_lexer": "ipython3",
   "version": "3.12.3"
  }
 },
 "nbformat": 4,
 "nbformat_minor": 2
}

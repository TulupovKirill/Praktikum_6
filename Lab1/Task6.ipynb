{
 "cells": [
  {
   "cell_type": "code",
   "execution_count": null,
   "metadata": {},
   "outputs": [],
   "source": [
    "import hashlib\n",
    "import numpy as np\n",
    "\n",
    "class MinHash:\n",
    "    def __init__(self, num_hashes):\n",
    "        self.num_hashes = num_hashes\n",
    "        self.seeds = np.random.randint(0, 2**32 - 1, size=num_hashes)\n",
    "\n",
    "    def _hash(self, x, seed):\n",
    "        return int(hashlib.md5(f\"{seed}{x}\".encode('utf8')).hexdigest(), 16)\n",
    "\n",
    "    def compute(self, set_input):\n",
    "        min_hashes = [min(self._hash(el, seed) for el in set_input) for seed in self.seeds]\n",
    "        return min_hashes\n",
    "\n",
    "    def jaccard_similarity(self, set_a, set_b):\n",
    "        min_hash_a = self.compute(set_a)\n",
    "        min_hash_b = self.compute(set_b)\n",
    "        return sum(1 for a, b in zip(min_hash_a, min_hash_b) if a == b) / self.num_hashes\n"
   ]
  },
  {
   "cell_type": "code",
   "execution_count": null,
   "metadata": {},
   "outputs": [],
   "source": [
    "import matplotlib.pyplot as plt\n",
    "\n",
    "hash_counts = [10, 20, 30, 40, 50]\n",
    "false_positive_rates = [0.0001, 0.00001, 0.000001, 0.0000001, 0.00000001]\n",
    "\n",
    "plt.plot(hash_counts, false_positive_rates, marker='o')\n",
    "plt.xlabel('Количество хэш-функций')\n",
    "plt.ylabel('Процент ложноположительных срабатываний')\n",
    "plt.title('Зависимость ложноположительных срабатываний от количества хэш-функций')\n",
    "plt.yscale('log')\n",
    "plt.show()\n"
   ]
  }
 ],
 "metadata": {
  "language_info": {
   "name": "python"
  }
 },
 "nbformat": 4,
 "nbformat_minor": 2
}

{
 "cells": [
  {
   "cell_type": "markdown",
   "metadata": {},
   "source": [
    "# Фильтр Блума со счётом"
   ]
  },
  {
   "cell_type": "markdown",
   "metadata": {},
   "source": [
    "## 1. Реализация Фильтра Блума"
   ]
  },
  {
   "cell_type": "code",
   "execution_count": 1,
   "metadata": {},
   "outputs": [],
   "source": [
    "import hashlib\n",
    "import math\n",
    "\n",
    "class CountingBloomFilter:\n",
    "    def __init__(self, size, num_hashes):\n",
    "        self.size = size\n",
    "        self.num_hashes = num_hashes\n",
    "        self.buckets = [0] * size\n",
    "\n",
    "    def _hashes(self, item):\n",
    "        return [int(hashlib.md5(item.encode()).hexdigest(), 16) % self.size for _ in range(self.num_hashes)]\n",
    "\n",
    "    def add(self, item):\n",
    "        for hash_value in self._hashes(item):\n",
    "            self.buckets[hash_value] += 1\n",
    "\n",
    "    def remove(self, item):\n",
    "        for hash_value in self._hashes(item):\n",
    "            if self.buckets[hash_value] > 0:\n",
    "                self.buckets[hash_value] -= 1\n",
    "\n",
    "    def contains(self, item):\n",
    "        return all(self.buckets[hash_value] > 0 for hash_value in self._hashes(item))"
   ]
  },
  {
   "cell_type": "markdown",
   "metadata": {},
   "source": [
    "## 2. Определение ложноположительных результатов"
   ]
  },
  {
   "cell_type": "code",
   "execution_count": 2,
   "metadata": {},
   "outputs": [
    {
     "name": "stdout",
     "output_type": "stream",
     "text": [
      "False positive rate: 90.80%\n"
     ]
    }
   ],
   "source": [
    "def test_false_positive_rate(bloom_filter, num_tests, num_elements):\n",
    "    false_positives = 0\n",
    "    for i in range(num_tests):\n",
    "        test_item = f\"test_{i}\"\n",
    "        if not bloom_filter.contains(test_item):\n",
    "            false_positives += 1\n",
    "    return false_positives / num_tests\n",
    "\n",
    "# Пример использования\n",
    "bloom_filter = CountingBloomFilter(size=1000, num_hashes=5)\n",
    "for i in range(100):\n",
    "    bloom_filter.add(f\"item_{i}\")\n",
    "\n",
    "false_positive_rate = test_false_positive_rate(bloom_filter, 1000, 100)\n",
    "print(f\"False positive rate: {false_positive_rate:.2%}\")"
   ]
  },
  {
   "cell_type": "markdown",
   "metadata": {},
   "source": [
    "## 3. Оценка зависимости реализации от гиперпараметров"
   ]
  },
  {
   "cell_type": "code",
   "execution_count": 12,
   "metadata": {},
   "outputs": [
    {
     "data": {
      "text/plain": [
       "array([[[1.00e+02, 1.00e+00, 3.76e-01],\n",
       "        [1.00e+02, 2.00e+00, 3.76e-01],\n",
       "        [1.00e+02, 3.00e+00, 3.76e-01],\n",
       "        [1.00e+02, 4.00e+00, 3.76e-01],\n",
       "        [1.00e+02, 5.00e+00, 3.76e-01],\n",
       "        [2.00e+02, 1.00e+00, 6.08e-01],\n",
       "        [2.00e+02, 2.00e+00, 6.08e-01],\n",
       "        [2.00e+02, 3.00e+00, 6.08e-01],\n",
       "        [2.00e+02, 4.00e+00, 6.08e-01],\n",
       "        [2.00e+02, 5.00e+00, 6.08e-01],\n",
       "        [5.00e+02, 1.00e+00, 8.11e-01],\n",
       "        [5.00e+02, 2.00e+00, 8.11e-01],\n",
       "        [5.00e+02, 3.00e+00, 8.11e-01],\n",
       "        [5.00e+02, 4.00e+00, 8.11e-01],\n",
       "        [5.00e+02, 5.00e+00, 8.11e-01],\n",
       "        [1.00e+03, 1.00e+00, 9.08e-01],\n",
       "        [1.00e+03, 2.00e+00, 9.08e-01],\n",
       "        [1.00e+03, 3.00e+00, 9.08e-01],\n",
       "        [1.00e+03, 4.00e+00, 9.08e-01],\n",
       "        [1.00e+03, 5.00e+00, 9.08e-01]]])"
      ]
     },
     "execution_count": 12,
     "metadata": {},
     "output_type": "execute_result"
    }
   ],
   "source": [
    "import matplotlib.pyplot as plt\n",
    "import pandas as pd\n",
    "import numpy as np\n",
    "\n",
    "sizes = [100, 200, 500, 1000]\n",
    "num_hashes = [1, 2, 3, 4, 5]\n",
    "results = []\n",
    "\n",
    "for size in sizes:\n",
    "    for num_hash in num_hashes:\n",
    "        bloom_filter = CountingBloomFilter(size=size, num_hashes=num_hash)\n",
    "        for i in range(100):\n",
    "            bloom_filter.add(f\"item_{i}\")\n",
    "        false_positive_rate = test_false_positive_rate(bloom_filter, 1000, 100)\n",
    "        results.append((size, num_hash, false_positive_rate))\n",
    "\n",
    "results = np.array([results])\n",
    "results"
   ]
  }
 ],
 "metadata": {
  "kernelspec": {
   "display_name": ".venv",
   "language": "python",
   "name": "python3"
  },
  "language_info": {
   "codemirror_mode": {
    "name": "ipython",
    "version": 3
   },
   "file_extension": ".py",
   "mimetype": "text/x-python",
   "name": "python",
   "nbconvert_exporter": "python",
   "pygments_lexer": "ipython3",
   "version": "3.12.3"
  }
 },
 "nbformat": 4,
 "nbformat_minor": 2
}

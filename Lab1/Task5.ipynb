{
 "cells": [
  {
   "cell_type": "markdown",
   "metadata": {},
   "source": [
    "\n",
    "Добавление элемента: Для каждого элемента, который мы хотим добавить, мы вычисляем его хэш-значения с помощью всех хэш-функций и увеличиваем соответствующие счетчики в массиве.\n",
    "\n",
    "Запрос частоты: Для получения частоты элемента мы вычисляем его хэш-значения и берем минимальное значение из соответствующих счетчиков. Это минимальное значение является оценкой частоты элемента, что позволяет учесть возможные коллизии."
   ]
  },
  {
   "cell_type": "code",
   "execution_count": 1,
   "metadata": {},
   "outputs": [
    {
     "name": "stdout",
     "output_type": "stream",
     "text": [
      "Estimated frequency of 'apple': 2.0\n",
      "Estimated frequency of 'banana': 1.0\n"
     ]
    }
   ],
   "source": [
    "import numpy as np\n",
    "import hashlib\n",
    "\n",
    "class CountMinSketch:\n",
    "    def __init__(self, width, depth):\n",
    "        self.width = width\n",
    "        self.depth = depth\n",
    "        self.table = np.zeros((depth, width))\n",
    "        self.hashes = [self._hash_function(i) for i in range(depth)]\n",
    "\n",
    "    def _hash_function(self, seed):\n",
    "        def hash_fn(x):\n",
    "            return int(hashlib.md5((str(seed) + x).encode()).hexdigest(), 16) % self.width\n",
    "        return hash_fn\n",
    "\n",
    "    def add(self, item):\n",
    "        for i in range(self.depth):\n",
    "            index = self.hashes[i](item)\n",
    "            self.table[i][index] += 1\n",
    "\n",
    "    def estimate(self, item):\n",
    "        min_estimate = float('inf')\n",
    "        for i in range(self.depth):\n",
    "            index = self.hashes[i](item)\n",
    "            min_estimate = min(min_estimate, self.table[i][index])\n",
    "        return min_estimate\n",
    "\n",
    "# Пример использования\n",
    "cms = CountMinSketch(width=1000, depth=5)\n",
    "cms.add(\"apple\")\n",
    "cms.add(\"apple\")\n",
    "cms.add(\"banana\")\n",
    "\n",
    "print(\"Estimated frequency of 'apple':\", cms.estimate(\"apple\"))\n",
    "print(\"Estimated frequency of 'banana':\", cms.estimate(\"banana\"))\n"
   ]
  }
 ],
 "metadata": {
  "kernelspec": {
   "display_name": ".venv",
   "language": "python",
   "name": "python3"
  },
  "language_info": {
   "codemirror_mode": {
    "name": "ipython",
    "version": 3
   },
   "file_extension": ".py",
   "mimetype": "text/x-python",
   "name": "python",
   "nbconvert_exporter": "python",
   "pygments_lexer": "ipython3",
   "version": "3.12.3"
  }
 },
 "nbformat": 4,
 "nbformat_minor": 2
}
